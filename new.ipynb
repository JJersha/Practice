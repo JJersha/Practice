{
 "cells": [
  {
   "cell_type": "code",
   "execution_count": 1,
   "metadata": {},
   "outputs": [],
   "source": [
    "import sys"
   ]
  },
  {
   "cell_type": "code",
   "execution_count": 2,
   "metadata": {},
   "outputs": [
    {
     "name": "stdout",
     "output_type": "stream",
     "text": [
      "c:\\Users\\jjers\\OneDrive\\Documents\\Desktop\\Git Practice\\.venv\\Scripts\\python.exe\n",
      "3.12.3 | packaged by conda-forge | (main, Apr 15 2024, 18:20:11) [MSC v.1938 64 bit (AMD64)]\n"
     ]
    }
   ],
   "source": [
    "print(sys.executable)\n",
    "print(sys.version)"
   ]
  },
  {
   "cell_type": "code",
   "execution_count": 1,
   "metadata": {},
   "outputs": [],
   "source": [
    "import OCC"
   ]
  },
  {
   "cell_type": "code",
   "execution_count": 2,
   "metadata": {},
   "outputs": [
    {
     "name": "stdout",
     "output_type": "stream",
     "text": [
      "Note: you may need to restart the kernel to use updated packages.\n"
     ]
    },
    {
     "name": "stderr",
     "output_type": "stream",
     "text": [
      "ERROR: Could not find a version that satisfies the requirement pythonocc-core (from versions: none)\n",
      "ERROR: No matching distribution found for pythonocc-core\n"
     ]
    }
   ],
   "source": [
    "pip install pythonocc-core"
   ]
  },
  {
   "cell_type": "code",
   "execution_count": 3,
   "metadata": {},
   "outputs": [],
   "source": [
    "from OCC.Core.gp import gp_Pnt, gp_Vec\n",
    "from OCC.Core.BRepBuilderAPI import BRepBuilderAPI_MakeEdge, BRepBuilderAPI_MakeWire, BRepBuilderAPI_MakeFace\n",
    "from OCC.Core.BRepPrimAPI import BRepPrimAPI_MakePrism\n",
    "from OCC.Core.BRep import BRep_Tool\n",
    "from OCC.Display.SimpleGui import init_display"
   ]
  },
  {
   "cell_type": "code",
   "execution_count": 4,
   "metadata": {},
   "outputs": [],
   "source": [
    "# Step 1: Define 4 corner points of the base rectangle\n",
    "p1 = gp_Pnt(0, 0, 0)\n",
    "p2 = gp_Pnt(40, 0, 0)\n",
    "p3 = gp_Pnt(40, 20, 0)\n",
    "p4 = gp_Pnt(0, 20, 0)\n",
    "\n",
    "# Step 2: Create edges from the points\n",
    "edge1 = BRepBuilderAPI_MakeEdge(p1, p2).Edge()\n",
    "edge2 = BRepBuilderAPI_MakeEdge(p2, p3).Edge()\n",
    "edge3 = BRepBuilderAPI_MakeEdge(p3, p4).Edge()\n",
    "edge4 = BRepBuilderAPI_MakeEdge(p4, p1).Edge()\n",
    "\n",
    "# Step 3: Create a wire from the edges\n",
    "wire_maker = BRepBuilderAPI_MakeWire()\n",
    "wire_maker.Add(edge1)\n",
    "wire_maker.Add(edge2)\n",
    "wire_maker.Add(edge3)\n",
    "wire_maker.Add(edge4)\n",
    "wire = wire_maker.Wire()\n",
    "\n",
    "# Step 4: Create a face from the wire\n",
    "face = BRepBuilderAPI_MakeFace(wire).Face()\n",
    "\n",
    "# Step 5: Extrude the face to create a cuboid\n",
    "height = 30  # Extrude height\n",
    "extrusion_vector = gp_Vec(0, 0, height)\n",
    "cuboid = BRepPrimAPI_MakePrism(face, extrusion_vector).Shape()\n",
    "\n",
    "# Step 6: Display the cuboid\n",
    "display, start_display, add_menu, add_function_to_menu = init_display()\n",
    "display.DisplayShape(cuboid, update=True)\n",
    "start_display()"
   ]
  }
 ],
 "metadata": {
  "kernelspec": {
   "display_name": "myenv",
   "language": "python",
   "name": "python3"
  },
  "language_info": {
   "codemirror_mode": {
    "name": "ipython",
    "version": 3
   },
   "file_extension": ".py",
   "mimetype": "text/x-python",
   "name": "python",
   "nbconvert_exporter": "python",
   "pygments_lexer": "ipython3",
   "version": "3.10.16"
  }
 },
 "nbformat": 4,
 "nbformat_minor": 2
}
