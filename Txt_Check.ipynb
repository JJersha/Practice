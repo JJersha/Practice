{
 "cells": [
  {
   "cell_type": "code",
   "execution_count": null,
   "metadata": {},
   "outputs": [
    {
     "name": "stdout",
     "output_type": "stream",
     "text": [
      "alph_count:  8            num_count:  4\n",
      "H1: (10, 10, 84.2, 42.5)\n"
     ]
    }
   ],
   "source": [
    "import os\n",
    "import sys\n",
    "import time\n",
    "import random\n",
    "import math\n",
    "import re\n",
    "\n",
    "width = 420\n",
    "height = 297\n",
    "default_w = 52.5\n",
    "default_h = 74.2\n",
    "alph_count = int(width/52.5)\n",
    "num_count = int(height/74.2)\n",
    "b_x = b_y = 0\n",
    "t_x = 420\n",
    "t_y = 297\n",
    "cord = (b_x, b_y, t_x, t_y)\n",
    "print(\"alph_count: \", alph_count,\"          \", \"num_count: \", num_count)\n",
    "for i in range(1, alph_count + 1):\n",
    "    for j in range(1, num_count + 1):\n",
    "    # print(f\"Zone {chr(64 + i)}{j}:\")\n",
    "        if (j == 1):\n",
    "            cord = ()\n",
    "            \n",
    "# Define the box function\n",
    "def box(cord):\n",
    "    return f\"{cord}\"\n",
    "            \n",
    "result = box(cord)\n",
    "print(f\"{chr(64 + i)}{j}: {result}\")\n",
    "        "
   ]
  },
  {
   "cell_type": "markdown",
   "metadata": {},
   "source": [
    "ChatGPT"
   ]
  },
  {
   "cell_type": "code",
   "execution_count": null,
   "metadata": {},
   "outputs": [],
   "source": [
    "import math\n",
    "\n",
    "# Constants\n",
    "width = 420\n",
    "height = 297\n",
    "default_w = 52.5\n",
    "default_h = 74.2\n",
    "\n",
    "# Counts of columns and rows\n",
    "alph_count = int(width / default_w)  # Columns A-H (8 columns)\n",
    "num_count = int(height / default_h)  # Rows 1-4 (4 rows)\n",
    "\n",
    "print(\"alph_count:\", alph_count, \"num_count:\", num_count)\n",
    "\n",
    "# Function to generate bounding box for a grid cell\n",
    "def box(bottom_left_x, bottom_left_y):\n",
    "    top_right_x = bottom_left_x + default_w\n",
    "    top_right_y = bottom_left_y + default_h\n",
    "    return (bottom_left_x, bottom_left_y, top_right_x, top_right_y)\n",
    "\n",
    "# Loop through all grid cells and print their bounding box\n",
    "for i in range(1, alph_count + 1):  # Columns (A to H)\n",
    "    col_letter = chr(65 + alph_count - i)  # Reverse order: H to A\n",
    "    for j in range(1, num_count + 1):  # Rows (1 to 4)\n",
    "        bottom_left_x = default_w * (i - 1) + 10\n",
    "        bottom_left_y = default_h * (j - 1) + 10\n",
    "        result = box(bottom_left_x, bottom_left_y)\n",
    "        print(f\"{col_letter}{j}: {result}\")"
   ]
  },
  {
   "cell_type": "markdown",
   "metadata": {},
   "source": [
    "Gemini"
   ]
  },
  {
   "cell_type": "code",
   "execution_count": null,
   "metadata": {},
   "outputs": [],
   "source": [
    "import os\n",
    "import sys\n",
    "import time\n",
    "import random\n",
    "import math\n",
    "import re\n",
    "\n",
    "width = 420\n",
    "height = 297\n",
    "default_w = 52.5\n",
    "default_h = 74.2\n",
    "alph_count = int(width / default_w)\n",
    "num_count = int(height / default_h)\n",
    "\n",
    "print(\"alph_count: \", alph_count, \"          \", \"num_count: \", num_count)\n",
    "\n",
    "# Function to calculate coordinates of a box\n",
    "def get_box_coordinates(col_index, row_index, default_width, default_height):\n",
    "    \"\"\"\n",
    "    Calculates the (bottom_left_x, bottom_left_y, top_right_x, top_right_y) coordinates\n",
    "    for a given box.\n",
    "\n",
    "    Args:\n",
    "        col_index (int): The column index (1-based).\n",
    "        row_index (int): The row index (1-based).\n",
    "        default_width (float): The width of each box.\n",
    "        default_height (float): The height of each box.\n",
    "\n",
    "    Returns:\n",
    "        tuple: A tuple containing (bottom_left_x, bottom_left_y, top_right_x, top_right_y).\n",
    "    \"\"\"\n",
    "    bottom_left_x = (col_index - 1) * default_width\n",
    "    bottom_left_y = (row_index - 1) * default_height\n",
    "    top_right_x = col_index * default_width\n",
    "    top_right_y = row_index * default_height\n",
    "    return (bottom_left_x, bottom_left_y, top_right_x, top_right_y)\n",
    "\n",
    "# Iterate through all the boxes and print their coordinates\n",
    "for i in range(1, alph_count + 1):\n",
    "    for j in range(1, num_count + 1):\n",
    "        coordinates = get_box_coordinates(i, j, default_w, default_h)\n",
    "        print(f\"Zone {chr(64 + i)}{j}: {coordinates}\")"
   ]
  },
  {
   "cell_type": "markdown",
   "metadata": {},
   "source": [
    "Copilot"
   ]
  },
  {
   "cell_type": "code",
   "execution_count": null,
   "metadata": {},
   "outputs": [],
   "source": [
    "import os\n",
    "import sys\n",
    "import time\n",
    "import random\n",
    "import math\n",
    "import re\n",
    "\n",
    "# Define grid dimensions\n",
    "width = 420\n",
    "height = 297\n",
    "default_w = 52.5\n",
    "default_h = 74.2\n",
    "\n",
    "# Calculate number of columns and rows\n",
    "alph_count = int(width / default_w)\n",
    "num_count = int(height / default_h)\n",
    "\n",
    "print(\"alph_count: \", alph_count, \"          \", \"num_count: \", num_count)\n",
    "\n",
    "# Function to calculate box coordinates\n",
    "def get_box_coordinates(col_index, row_index):\n",
    "    \"\"\"\n",
    "    Calculates the (bottom_left_x, bottom_left_y, top_right_x, top_right_y) coordinates\n",
    "    for a given box.\n",
    "\n",
    "    Args:\n",
    "        col_index (int): The column index (1-based).\n",
    "        row_index (int): The row index (1-based).\n",
    "\n",
    "    Returns:\n",
    "        tuple: (bottom_left_x, bottom_left_y, top_right_x, top_right_y).\n",
    "    \"\"\"\n",
    "    bottom_left_x = (col_index - 1) * default_w\n",
    "    bottom_left_y = (row_index - 1) * default_h\n",
    "    top_right_x = col_index * default_w\n",
    "    top_right_y = row_index * default_h\n",
    "    return (bottom_left_x, bottom_left_y, top_right_x, top_right_y)\n",
    "\n",
    "# Iterate through all boxes and print their coordinates\n",
    "for i in range(1, alph_count + 1):\n",
    "    for j in range(1, num_count + 1):\n",
    "        coordinates = get_box_coordinates(i, j)\n",
    "        print(f\"Zone {chr(64 + i)}{j}: {coordinates}\")"
   ]
  }
 ],
 "metadata": {
  "kernelspec": {
   "display_name": "myenv",
   "language": "python",
   "name": "python3"
  },
  "language_info": {
   "codemirror_mode": {
    "name": "ipython",
    "version": 3
   },
   "file_extension": ".py",
   "mimetype": "text/x-python",
   "name": "python",
   "nbconvert_exporter": "python",
   "pygments_lexer": "ipython3",
   "version": "3.10.16"
  }
 },
 "nbformat": 4,
 "nbformat_minor": 2
}
